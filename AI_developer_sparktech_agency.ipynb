{
  "nbformat": 4,
  "nbformat_minor": 0,
  "metadata": {
    "colab": {
      "provenance": []
    },
    "kernelspec": {
      "name": "python3",
      "display_name": "Python 3"
    },
    "language_info": {
      "name": "python"
    }
  },
  "cells": [
    {
      "cell_type": "code",
      "execution_count": 1,
      "metadata": {
        "id": "btiROc6zOmu2"
      },
      "outputs": [],
      "source": [
        "import pandas as pd\n",
        "from sklearn.preprocessing import LabelEncoder\n",
        "import numpy as np\n",
        "from sklearn.model_selection import train_test_split\n",
        "from sklearn.preprocessing import StandardScaler\n",
        "from sklearn.metrics import mean_absolute_error, mean_squared_error, r2_score\n",
        "\n",
        "from tensorflow.keras.models import Sequential\n",
        "from tensorflow.keras.layers import Dense, Dropout, Input\n",
        "from tensorflow.keras.losses import Huber\n",
        "from tensorflow.keras.optimizers import Adam\n",
        "from tensorflow.keras.callbacks import EarlyStopping\n",
        "import seaborn as sns\n",
        "import matplotlib.pyplot as plt"
      ]
    },
    {
      "cell_type": "code",
      "source": [
        "df = pd.read_csv(\"airbnb.csv\")"
      ],
      "metadata": {
        "id": "n4qcct4FlisI"
      },
      "execution_count": 2,
      "outputs": []
    },
    {
      "cell_type": "code",
      "source": [
        "df.info()"
      ],
      "metadata": {
        "colab": {
          "base_uri": "https://localhost:8080/"
        },
        "id": "iDasX36ZlurM",
        "outputId": "137f9c15-f0ad-4d67-c460-7c150679a205"
      },
      "execution_count": 3,
      "outputs": [
        {
          "output_type": "stream",
          "name": "stdout",
          "text": [
            "<class 'pandas.core.frame.DataFrame'>\n",
            "RangeIndex: 12805 entries, 0 to 12804\n",
            "Data columns (total 23 columns):\n",
            " #   Column        Non-Null Count  Dtype  \n",
            "---  ------        --------------  -----  \n",
            " 0   Unnamed: 0    12805 non-null  int64  \n",
            " 1   id            12805 non-null  float64\n",
            " 2   name          12805 non-null  object \n",
            " 3   rating        12805 non-null  object \n",
            " 4   reviews       12805 non-null  object \n",
            " 5   host_name     12797 non-null  object \n",
            " 6   host_id       12805 non-null  int64  \n",
            " 7   address       12805 non-null  object \n",
            " 8   features      12805 non-null  object \n",
            " 9   amenities     12805 non-null  object \n",
            " 10  safety_rules  12805 non-null  object \n",
            " 11  hourse_rules  12805 non-null  object \n",
            " 12  img_links     12805 non-null  object \n",
            " 13  price         12805 non-null  int64  \n",
            " 14  country       12805 non-null  object \n",
            " 15  bathrooms     12805 non-null  int64  \n",
            " 16  beds          12805 non-null  int64  \n",
            " 17  guests        12805 non-null  int64  \n",
            " 18  toilets       12805 non-null  int64  \n",
            " 19  bedrooms      12805 non-null  int64  \n",
            " 20  studios       12805 non-null  int64  \n",
            " 21  checkin       12005 non-null  object \n",
            " 22  checkout      10355 non-null  object \n",
            "dtypes: float64(1), int64(9), object(13)\n",
            "memory usage: 2.2+ MB\n"
          ]
        }
      ]
    },
    {
      "cell_type": "code",
      "source": [
        "df['reviews'] = pd.to_numeric(df['reviews'], errors='coerce')"
      ],
      "metadata": {
        "id": "hYcLXH2-9wmw"
      },
      "execution_count": 4,
      "outputs": []
    },
    {
      "cell_type": "code",
      "source": [
        "df.head()"
      ],
      "metadata": {
        "colab": {
          "base_uri": "https://localhost:8080/",
          "height": 550
        },
        "id": "-Heaoegzl03-",
        "outputId": "f2d4ef8f-d24b-4268-e822-51cb5a29bb36"
      },
      "execution_count": 4,
      "outputs": [
        {
          "output_type": "execute_result",
          "data": {
            "text/plain": [
              "   Unnamed: 0        id                                               name  \\\n",
              "0           0  49849504                                     Perla bungalov   \n",
              "1           1  50891766  Authentic Beach Architect Sheltered Villa with...   \n",
              "2           2  50699164                                  cottages sataplia   \n",
              "3           3  49871422                        Sapanca Breathable Bungalow   \n",
              "4           4  51245886                                      Bungalov Ev 2   \n",
              "\n",
              "  rating reviews    host_name      host_id                   address  \\\n",
              "0   4.71      64    Mehmetcan  357334205.0  Kartepe, Kocaeli, Turkey   \n",
              "1    New       0        Fatih  386223873.0      Kaş, Antalya, Turkey   \n",
              "2   4.85      68       Giorgi  409690853.0          Imereti, Georgia   \n",
              "3    5.0      13        Melih  401873242.0  Sapanca, Sakarya, Turkey   \n",
              "4    New       0  Arp Sapanca  414884116.0  Sapanca, Sakarya, Turkey   \n",
              "\n",
              "                                 features  \\\n",
              "0    2 guests,2 bedrooms,1 bed,1 bathroom   \n",
              "1  4 guests,2 bedrooms,2 beds,2 bathrooms   \n",
              "2    4 guests,1 bedroom,3 beds,1 bathroom   \n",
              "3    4 guests,1 bedroom,2 beds,1 bathroom   \n",
              "4     2 guests,1 bedroom,1 bed,1 bathroom   \n",
              "\n",
              "                                           amenities  ...    price   country  \\\n",
              "0  Mountain view,Valley view,Lake access,Kitchen,...  ...   8078.0    Turkey   \n",
              "1  Kitchen,Wifi,Dedicated workspace,Free parking ...  ...   4665.0    Turkey   \n",
              "2  Mountain view,Kitchen,Wifi,Dedicated workspace...  ...   5991.0   Georgia   \n",
              "3  Mountain view,Valley view,Kitchen,Wifi,Free pa...  ...  11339.0    Turkey   \n",
              "4  Kitchen,Wifi,Free parking on premises,TV,Air c...  ...   6673.0    Turkey   \n",
              "\n",
              "  bathrooms  beds guests  toiles  bedrooms  studios              checkin  \\\n",
              "0       1.0   1.0    2.0     0.0       2.0      0.0             Flexible   \n",
              "1       2.0   2.0    4.0     0.0       2.0      0.0   4 00 pm - 11 00 pm   \n",
              "2       1.0   3.0    4.0     0.0       1.0      0.0        After 1 00 pm   \n",
              "3       1.0   2.0    4.0     0.0       1.0      0.0        After 2 00 pm   \n",
              "4       1.0   1.0    2.0     0.0       1.0      0.0        After 2 00 pm   \n",
              "\n",
              "    checkout  \n",
              "0   12 00 pm  \n",
              "1   10 00 am  \n",
              "2   12 00 pm  \n",
              "3   12 00 pm  \n",
              "4   12 00 pm  \n",
              "\n",
              "[5 rows x 23 columns]"
            ],
            "text/html": [
              "\n",
              "  <div id=\"df-37aae046-7365-4a04-a355-6b05bbc34913\" class=\"colab-df-container\">\n",
              "    <div>\n",
              "<style scoped>\n",
              "    .dataframe tbody tr th:only-of-type {\n",
              "        vertical-align: middle;\n",
              "    }\n",
              "\n",
              "    .dataframe tbody tr th {\n",
              "        vertical-align: top;\n",
              "    }\n",
              "\n",
              "    .dataframe thead th {\n",
              "        text-align: right;\n",
              "    }\n",
              "</style>\n",
              "<table border=\"1\" class=\"dataframe\">\n",
              "  <thead>\n",
              "    <tr style=\"text-align: right;\">\n",
              "      <th></th>\n",
              "      <th>Unnamed: 0</th>\n",
              "      <th>id</th>\n",
              "      <th>name</th>\n",
              "      <th>rating</th>\n",
              "      <th>reviews</th>\n",
              "      <th>host_name</th>\n",
              "      <th>host_id</th>\n",
              "      <th>address</th>\n",
              "      <th>features</th>\n",
              "      <th>amenities</th>\n",
              "      <th>...</th>\n",
              "      <th>price</th>\n",
              "      <th>country</th>\n",
              "      <th>bathrooms</th>\n",
              "      <th>beds</th>\n",
              "      <th>guests</th>\n",
              "      <th>toiles</th>\n",
              "      <th>bedrooms</th>\n",
              "      <th>studios</th>\n",
              "      <th>checkin</th>\n",
              "      <th>checkout</th>\n",
              "    </tr>\n",
              "  </thead>\n",
              "  <tbody>\n",
              "    <tr>\n",
              "      <th>0</th>\n",
              "      <td>0</td>\n",
              "      <td>49849504</td>\n",
              "      <td>Perla bungalov</td>\n",
              "      <td>4.71</td>\n",
              "      <td>64</td>\n",
              "      <td>Mehmetcan</td>\n",
              "      <td>357334205.0</td>\n",
              "      <td>Kartepe, Kocaeli, Turkey</td>\n",
              "      <td>2 guests,2 bedrooms,1 bed,1 bathroom</td>\n",
              "      <td>Mountain view,Valley view,Lake access,Kitchen,...</td>\n",
              "      <td>...</td>\n",
              "      <td>8078.0</td>\n",
              "      <td>Turkey</td>\n",
              "      <td>1.0</td>\n",
              "      <td>1.0</td>\n",
              "      <td>2.0</td>\n",
              "      <td>0.0</td>\n",
              "      <td>2.0</td>\n",
              "      <td>0.0</td>\n",
              "      <td>Flexible</td>\n",
              "      <td>12 00 pm</td>\n",
              "    </tr>\n",
              "    <tr>\n",
              "      <th>1</th>\n",
              "      <td>1</td>\n",
              "      <td>50891766</td>\n",
              "      <td>Authentic Beach Architect Sheltered Villa with...</td>\n",
              "      <td>New</td>\n",
              "      <td>0</td>\n",
              "      <td>Fatih</td>\n",
              "      <td>386223873.0</td>\n",
              "      <td>Kaş, Antalya, Turkey</td>\n",
              "      <td>4 guests,2 bedrooms,2 beds,2 bathrooms</td>\n",
              "      <td>Kitchen,Wifi,Dedicated workspace,Free parking ...</td>\n",
              "      <td>...</td>\n",
              "      <td>4665.0</td>\n",
              "      <td>Turkey</td>\n",
              "      <td>2.0</td>\n",
              "      <td>2.0</td>\n",
              "      <td>4.0</td>\n",
              "      <td>0.0</td>\n",
              "      <td>2.0</td>\n",
              "      <td>0.0</td>\n",
              "      <td>4 00 pm - 11 00 pm</td>\n",
              "      <td>10 00 am</td>\n",
              "    </tr>\n",
              "    <tr>\n",
              "      <th>2</th>\n",
              "      <td>2</td>\n",
              "      <td>50699164</td>\n",
              "      <td>cottages sataplia</td>\n",
              "      <td>4.85</td>\n",
              "      <td>68</td>\n",
              "      <td>Giorgi</td>\n",
              "      <td>409690853.0</td>\n",
              "      <td>Imereti, Georgia</td>\n",
              "      <td>4 guests,1 bedroom,3 beds,1 bathroom</td>\n",
              "      <td>Mountain view,Kitchen,Wifi,Dedicated workspace...</td>\n",
              "      <td>...</td>\n",
              "      <td>5991.0</td>\n",
              "      <td>Georgia</td>\n",
              "      <td>1.0</td>\n",
              "      <td>3.0</td>\n",
              "      <td>4.0</td>\n",
              "      <td>0.0</td>\n",
              "      <td>1.0</td>\n",
              "      <td>0.0</td>\n",
              "      <td>After 1 00 pm</td>\n",
              "      <td>12 00 pm</td>\n",
              "    </tr>\n",
              "    <tr>\n",
              "      <th>3</th>\n",
              "      <td>3</td>\n",
              "      <td>49871422</td>\n",
              "      <td>Sapanca Breathable Bungalow</td>\n",
              "      <td>5.0</td>\n",
              "      <td>13</td>\n",
              "      <td>Melih</td>\n",
              "      <td>401873242.0</td>\n",
              "      <td>Sapanca, Sakarya, Turkey</td>\n",
              "      <td>4 guests,1 bedroom,2 beds,1 bathroom</td>\n",
              "      <td>Mountain view,Valley view,Kitchen,Wifi,Free pa...</td>\n",
              "      <td>...</td>\n",
              "      <td>11339.0</td>\n",
              "      <td>Turkey</td>\n",
              "      <td>1.0</td>\n",
              "      <td>2.0</td>\n",
              "      <td>4.0</td>\n",
              "      <td>0.0</td>\n",
              "      <td>1.0</td>\n",
              "      <td>0.0</td>\n",
              "      <td>After 2 00 pm</td>\n",
              "      <td>12 00 pm</td>\n",
              "    </tr>\n",
              "    <tr>\n",
              "      <th>4</th>\n",
              "      <td>4</td>\n",
              "      <td>51245886</td>\n",
              "      <td>Bungalov Ev 2</td>\n",
              "      <td>New</td>\n",
              "      <td>0</td>\n",
              "      <td>Arp Sapanca</td>\n",
              "      <td>414884116.0</td>\n",
              "      <td>Sapanca, Sakarya, Turkey</td>\n",
              "      <td>2 guests,1 bedroom,1 bed,1 bathroom</td>\n",
              "      <td>Kitchen,Wifi,Free parking on premises,TV,Air c...</td>\n",
              "      <td>...</td>\n",
              "      <td>6673.0</td>\n",
              "      <td>Turkey</td>\n",
              "      <td>1.0</td>\n",
              "      <td>1.0</td>\n",
              "      <td>2.0</td>\n",
              "      <td>0.0</td>\n",
              "      <td>1.0</td>\n",
              "      <td>0.0</td>\n",
              "      <td>After 2 00 pm</td>\n",
              "      <td>12 00 pm</td>\n",
              "    </tr>\n",
              "  </tbody>\n",
              "</table>\n",
              "<p>5 rows × 23 columns</p>\n",
              "</div>\n",
              "    <div class=\"colab-df-buttons\">\n",
              "\n",
              "  <div class=\"colab-df-container\">\n",
              "    <button class=\"colab-df-convert\" onclick=\"convertToInteractive('df-37aae046-7365-4a04-a355-6b05bbc34913')\"\n",
              "            title=\"Convert this dataframe to an interactive table.\"\n",
              "            style=\"display:none;\">\n",
              "\n",
              "  <svg xmlns=\"http://www.w3.org/2000/svg\" height=\"24px\" viewBox=\"0 -960 960 960\">\n",
              "    <path d=\"M120-120v-720h720v720H120Zm60-500h600v-160H180v160Zm220 220h160v-160H400v160Zm0 220h160v-160H400v160ZM180-400h160v-160H180v160Zm440 0h160v-160H620v160ZM180-180h160v-160H180v160Zm440 0h160v-160H620v160Z\"/>\n",
              "  </svg>\n",
              "    </button>\n",
              "\n",
              "  <style>\n",
              "    .colab-df-container {\n",
              "      display:flex;\n",
              "      gap: 12px;\n",
              "    }\n",
              "\n",
              "    .colab-df-convert {\n",
              "      background-color: #E8F0FE;\n",
              "      border: none;\n",
              "      border-radius: 50%;\n",
              "      cursor: pointer;\n",
              "      display: none;\n",
              "      fill: #1967D2;\n",
              "      height: 32px;\n",
              "      padding: 0 0 0 0;\n",
              "      width: 32px;\n",
              "    }\n",
              "\n",
              "    .colab-df-convert:hover {\n",
              "      background-color: #E2EBFA;\n",
              "      box-shadow: 0px 1px 2px rgba(60, 64, 67, 0.3), 0px 1px 3px 1px rgba(60, 64, 67, 0.15);\n",
              "      fill: #174EA6;\n",
              "    }\n",
              "\n",
              "    .colab-df-buttons div {\n",
              "      margin-bottom: 4px;\n",
              "    }\n",
              "\n",
              "    [theme=dark] .colab-df-convert {\n",
              "      background-color: #3B4455;\n",
              "      fill: #D2E3FC;\n",
              "    }\n",
              "\n",
              "    [theme=dark] .colab-df-convert:hover {\n",
              "      background-color: #434B5C;\n",
              "      box-shadow: 0px 1px 3px 1px rgba(0, 0, 0, 0.15);\n",
              "      filter: drop-shadow(0px 1px 2px rgba(0, 0, 0, 0.3));\n",
              "      fill: #FFFFFF;\n",
              "    }\n",
              "  </style>\n",
              "\n",
              "    <script>\n",
              "      const buttonEl =\n",
              "        document.querySelector('#df-37aae046-7365-4a04-a355-6b05bbc34913 button.colab-df-convert');\n",
              "      buttonEl.style.display =\n",
              "        google.colab.kernel.accessAllowed ? 'block' : 'none';\n",
              "\n",
              "      async function convertToInteractive(key) {\n",
              "        const element = document.querySelector('#df-37aae046-7365-4a04-a355-6b05bbc34913');\n",
              "        const dataTable =\n",
              "          await google.colab.kernel.invokeFunction('convertToInteractive',\n",
              "                                                    [key], {});\n",
              "        if (!dataTable) return;\n",
              "\n",
              "        const docLinkHtml = 'Like what you see? Visit the ' +\n",
              "          '<a target=\"_blank\" href=https://colab.research.google.com/notebooks/data_table.ipynb>data table notebook</a>'\n",
              "          + ' to learn more about interactive tables.';\n",
              "        element.innerHTML = '';\n",
              "        dataTable['output_type'] = 'display_data';\n",
              "        await google.colab.output.renderOutput(dataTable, element);\n",
              "        const docLink = document.createElement('div');\n",
              "        docLink.innerHTML = docLinkHtml;\n",
              "        element.appendChild(docLink);\n",
              "      }\n",
              "    </script>\n",
              "  </div>\n",
              "\n",
              "\n",
              "    <div id=\"df-c2065db3-7d30-404d-a0cf-1ddccec48a1b\">\n",
              "      <button class=\"colab-df-quickchart\" onclick=\"quickchart('df-c2065db3-7d30-404d-a0cf-1ddccec48a1b')\"\n",
              "                title=\"Suggest charts\"\n",
              "                style=\"display:none;\">\n",
              "\n",
              "<svg xmlns=\"http://www.w3.org/2000/svg\" height=\"24px\"viewBox=\"0 0 24 24\"\n",
              "     width=\"24px\">\n",
              "    <g>\n",
              "        <path d=\"M19 3H5c-1.1 0-2 .9-2 2v14c0 1.1.9 2 2 2h14c1.1 0 2-.9 2-2V5c0-1.1-.9-2-2-2zM9 17H7v-7h2v7zm4 0h-2V7h2v10zm4 0h-2v-4h2v4z\"/>\n",
              "    </g>\n",
              "</svg>\n",
              "      </button>\n",
              "\n",
              "<style>\n",
              "  .colab-df-quickchart {\n",
              "      --bg-color: #E8F0FE;\n",
              "      --fill-color: #1967D2;\n",
              "      --hover-bg-color: #E2EBFA;\n",
              "      --hover-fill-color: #174EA6;\n",
              "      --disabled-fill-color: #AAA;\n",
              "      --disabled-bg-color: #DDD;\n",
              "  }\n",
              "\n",
              "  [theme=dark] .colab-df-quickchart {\n",
              "      --bg-color: #3B4455;\n",
              "      --fill-color: #D2E3FC;\n",
              "      --hover-bg-color: #434B5C;\n",
              "      --hover-fill-color: #FFFFFF;\n",
              "      --disabled-bg-color: #3B4455;\n",
              "      --disabled-fill-color: #666;\n",
              "  }\n",
              "\n",
              "  .colab-df-quickchart {\n",
              "    background-color: var(--bg-color);\n",
              "    border: none;\n",
              "    border-radius: 50%;\n",
              "    cursor: pointer;\n",
              "    display: none;\n",
              "    fill: var(--fill-color);\n",
              "    height: 32px;\n",
              "    padding: 0;\n",
              "    width: 32px;\n",
              "  }\n",
              "\n",
              "  .colab-df-quickchart:hover {\n",
              "    background-color: var(--hover-bg-color);\n",
              "    box-shadow: 0 1px 2px rgba(60, 64, 67, 0.3), 0 1px 3px 1px rgba(60, 64, 67, 0.15);\n",
              "    fill: var(--button-hover-fill-color);\n",
              "  }\n",
              "\n",
              "  .colab-df-quickchart-complete:disabled,\n",
              "  .colab-df-quickchart-complete:disabled:hover {\n",
              "    background-color: var(--disabled-bg-color);\n",
              "    fill: var(--disabled-fill-color);\n",
              "    box-shadow: none;\n",
              "  }\n",
              "\n",
              "  .colab-df-spinner {\n",
              "    border: 2px solid var(--fill-color);\n",
              "    border-color: transparent;\n",
              "    border-bottom-color: var(--fill-color);\n",
              "    animation:\n",
              "      spin 1s steps(1) infinite;\n",
              "  }\n",
              "\n",
              "  @keyframes spin {\n",
              "    0% {\n",
              "      border-color: transparent;\n",
              "      border-bottom-color: var(--fill-color);\n",
              "      border-left-color: var(--fill-color);\n",
              "    }\n",
              "    20% {\n",
              "      border-color: transparent;\n",
              "      border-left-color: var(--fill-color);\n",
              "      border-top-color: var(--fill-color);\n",
              "    }\n",
              "    30% {\n",
              "      border-color: transparent;\n",
              "      border-left-color: var(--fill-color);\n",
              "      border-top-color: var(--fill-color);\n",
              "      border-right-color: var(--fill-color);\n",
              "    }\n",
              "    40% {\n",
              "      border-color: transparent;\n",
              "      border-right-color: var(--fill-color);\n",
              "      border-top-color: var(--fill-color);\n",
              "    }\n",
              "    60% {\n",
              "      border-color: transparent;\n",
              "      border-right-color: var(--fill-color);\n",
              "    }\n",
              "    80% {\n",
              "      border-color: transparent;\n",
              "      border-right-color: var(--fill-color);\n",
              "      border-bottom-color: var(--fill-color);\n",
              "    }\n",
              "    90% {\n",
              "      border-color: transparent;\n",
              "      border-bottom-color: var(--fill-color);\n",
              "    }\n",
              "  }\n",
              "</style>\n",
              "\n",
              "      <script>\n",
              "        async function quickchart(key) {\n",
              "          const quickchartButtonEl =\n",
              "            document.querySelector('#' + key + ' button');\n",
              "          quickchartButtonEl.disabled = true;  // To prevent multiple clicks.\n",
              "          quickchartButtonEl.classList.add('colab-df-spinner');\n",
              "          try {\n",
              "            const charts = await google.colab.kernel.invokeFunction(\n",
              "                'suggestCharts', [key], {});\n",
              "          } catch (error) {\n",
              "            console.error('Error during call to suggestCharts:', error);\n",
              "          }\n",
              "          quickchartButtonEl.classList.remove('colab-df-spinner');\n",
              "          quickchartButtonEl.classList.add('colab-df-quickchart-complete');\n",
              "        }\n",
              "        (() => {\n",
              "          let quickchartButtonEl =\n",
              "            document.querySelector('#df-c2065db3-7d30-404d-a0cf-1ddccec48a1b button');\n",
              "          quickchartButtonEl.style.display =\n",
              "            google.colab.kernel.accessAllowed ? 'block' : 'none';\n",
              "        })();\n",
              "      </script>\n",
              "    </div>\n",
              "\n",
              "    </div>\n",
              "  </div>\n"
            ],
            "application/vnd.google.colaboratory.intrinsic+json": {
              "type": "dataframe",
              "variable_name": "df"
            }
          },
          "metadata": {},
          "execution_count": 4
        }
      ]
    },
    {
      "cell_type": "code",
      "source": [
        "df.isnull().sum()\n"
      ],
      "metadata": {
        "colab": {
          "base_uri": "https://localhost:8080/",
          "height": 805
        },
        "id": "4gbaRHlLl_Ou",
        "outputId": "32b9db70-9cb5-43c2-fa40-c3fce41c18dc"
      },
      "execution_count": 5,
      "outputs": [
        {
          "output_type": "execute_result",
          "data": {
            "text/plain": [
              "Unnamed: 0         0\n",
              "id                 0\n",
              "name               0\n",
              "rating             0\n",
              "reviews            1\n",
              "host_name          8\n",
              "host_id            0\n",
              "address            0\n",
              "features           0\n",
              "amenities          0\n",
              "safety_rules       0\n",
              "hourse_rules       0\n",
              "img_links          0\n",
              "price              0\n",
              "country            0\n",
              "bathrooms          0\n",
              "beds               0\n",
              "guests             0\n",
              "toilets            0\n",
              "bedrooms           0\n",
              "studios            0\n",
              "checkin          800\n",
              "checkout        2450\n",
              "dtype: int64"
            ],
            "text/html": [
              "<div>\n",
              "<style scoped>\n",
              "    .dataframe tbody tr th:only-of-type {\n",
              "        vertical-align: middle;\n",
              "    }\n",
              "\n",
              "    .dataframe tbody tr th {\n",
              "        vertical-align: top;\n",
              "    }\n",
              "\n",
              "    .dataframe thead th {\n",
              "        text-align: right;\n",
              "    }\n",
              "</style>\n",
              "<table border=\"1\" class=\"dataframe\">\n",
              "  <thead>\n",
              "    <tr style=\"text-align: right;\">\n",
              "      <th></th>\n",
              "      <th>0</th>\n",
              "    </tr>\n",
              "  </thead>\n",
              "  <tbody>\n",
              "    <tr>\n",
              "      <th>Unnamed: 0</th>\n",
              "      <td>0</td>\n",
              "    </tr>\n",
              "    <tr>\n",
              "      <th>id</th>\n",
              "      <td>0</td>\n",
              "    </tr>\n",
              "    <tr>\n",
              "      <th>name</th>\n",
              "      <td>0</td>\n",
              "    </tr>\n",
              "    <tr>\n",
              "      <th>rating</th>\n",
              "      <td>0</td>\n",
              "    </tr>\n",
              "    <tr>\n",
              "      <th>reviews</th>\n",
              "      <td>1</td>\n",
              "    </tr>\n",
              "    <tr>\n",
              "      <th>host_name</th>\n",
              "      <td>8</td>\n",
              "    </tr>\n",
              "    <tr>\n",
              "      <th>host_id</th>\n",
              "      <td>0</td>\n",
              "    </tr>\n",
              "    <tr>\n",
              "      <th>address</th>\n",
              "      <td>0</td>\n",
              "    </tr>\n",
              "    <tr>\n",
              "      <th>features</th>\n",
              "      <td>0</td>\n",
              "    </tr>\n",
              "    <tr>\n",
              "      <th>amenities</th>\n",
              "      <td>0</td>\n",
              "    </tr>\n",
              "    <tr>\n",
              "      <th>safety_rules</th>\n",
              "      <td>0</td>\n",
              "    </tr>\n",
              "    <tr>\n",
              "      <th>hourse_rules</th>\n",
              "      <td>0</td>\n",
              "    </tr>\n",
              "    <tr>\n",
              "      <th>img_links</th>\n",
              "      <td>0</td>\n",
              "    </tr>\n",
              "    <tr>\n",
              "      <th>price</th>\n",
              "      <td>0</td>\n",
              "    </tr>\n",
              "    <tr>\n",
              "      <th>country</th>\n",
              "      <td>0</td>\n",
              "    </tr>\n",
              "    <tr>\n",
              "      <th>bathrooms</th>\n",
              "      <td>0</td>\n",
              "    </tr>\n",
              "    <tr>\n",
              "      <th>beds</th>\n",
              "      <td>0</td>\n",
              "    </tr>\n",
              "    <tr>\n",
              "      <th>guests</th>\n",
              "      <td>0</td>\n",
              "    </tr>\n",
              "    <tr>\n",
              "      <th>toilets</th>\n",
              "      <td>0</td>\n",
              "    </tr>\n",
              "    <tr>\n",
              "      <th>bedrooms</th>\n",
              "      <td>0</td>\n",
              "    </tr>\n",
              "    <tr>\n",
              "      <th>studios</th>\n",
              "      <td>0</td>\n",
              "    </tr>\n",
              "    <tr>\n",
              "      <th>checkin</th>\n",
              "      <td>800</td>\n",
              "    </tr>\n",
              "    <tr>\n",
              "      <th>checkout</th>\n",
              "      <td>2450</td>\n",
              "    </tr>\n",
              "  </tbody>\n",
              "</table>\n",
              "</div><br><label><b>dtype:</b> int64</label>"
            ]
          },
          "metadata": {},
          "execution_count": 5
        }
      ]
    },
    {
      "cell_type": "code",
      "source": [
        "df = df.dropna(subset=['price'])\n"
      ],
      "metadata": {
        "id": "XFGlYtuoSFM9"
      },
      "execution_count": 19,
      "outputs": []
    },
    {
      "cell_type": "markdown",
      "source": [
        "### checkin, checkout columns seem insignificant, therefore i am not going to use them. As well as, I want to see what the missings values adjacent columns look like starting with host_name."
      ],
      "metadata": {
        "id": "uJLoV24qScRQ"
      }
    },
    {
      "cell_type": "code",
      "source": [
        "missing_host_name_rows = df[df['host_name'].isna()]\n",
        "print(missing_host_name_rows)"
      ],
      "metadata": {
        "colab": {
          "base_uri": "https://localhost:8080/"
        },
        "id": "Q0ukJ0deS9l8",
        "outputId": "50af868a-ae26-427f-9d0a-1d8f37518bd1"
      },
      "execution_count": 26,
      "outputs": [
        {
          "output_type": "stream",
          "name": "stdout",
          "text": [
            "       Unnamed: 0        id  \\\n",
            "1249         1249  18295066   \n",
            "1337         1337  20445002   \n",
            "1381         1381  48351190   \n",
            "4277         4277  20006574   \n",
            "4315         4315  49957198   \n",
            "4366         4366  49972849   \n",
            "10645       10645  15724623   \n",
            "11235       11235  46437570   \n",
            "\n",
            "                                                    name    rating reviews  \\\n",
            "1249                       Janur Bungalow-Deluxe Limasan  5.000000      13   \n",
            "1337                 UFO  'Futuro styled Flying Saucer'!  4.750000      28   \n",
            "1381   Otter Landing on Santa Fe River, 13 private acres  4.950000      73   \n",
            "4277   Stunning modern 3 bedroom apartment in Netanya...  5.000000       5   \n",
            "4315                Nile Sunrise Boat for Private Rental  4.920000      13   \n",
            "4366   Nile Sunrise Sailing from Esna to Aswan Full B...  4.856222       1   \n",
            "10645     Evening sun - cozy room surrounded by greenery  4.790000     106   \n",
            "11235         Luxurious 2BR + Full View of Burj Khalifa!  4.580000      45   \n",
            "\n",
            "      host_name      host_id                                  address  \\\n",
            "1249        NaN   90919389.0       Borobudur, Central Java, Indonesia   \n",
            "1337        NaN   24401842.0                 Redberth, United Kingdom   \n",
            "1381        NaN  140817562.0         Branford, Florida, United States   \n",
            "4277        NaN  142000809.0          Netanya, South District, Israel   \n",
            "4315        NaN  220584669.0      Al Bairat, Luxor Governorate, Egypt   \n",
            "4366        NaN  220584669.0      Al Bairat, Luxor Governorate, Egypt   \n",
            "10645       NaN   26465786.0  Rheinbach, Nordrhein-Westfalen, Germany   \n",
            "11235       NaN   50966510.0              Dubai, United Arab Emirates   \n",
            "\n",
            "                                            features  \\\n",
            "1249     2 guests,1 bedroom,1 bed,1 private bathroom   \n",
            "1337           4 guests,1 bedroom,3 beds,0 bathrooms   \n",
            "1381          4 guests,2 bedrooms,3 beds,2 bathrooms   \n",
            "4277          7 guests,3 bedrooms,7 beds,2 bathrooms   \n",
            "4315                6 guests,1 bedroom,1.5 bathrooms   \n",
            "4366                             6 guests,1 bathroom   \n",
            "10645  2 guests,1 bedroom,1 bed,1.5 shared bathrooms   \n",
            "11235       4 guests,2 bedrooms,3 beds,2.5 bathrooms   \n",
            "\n",
            "                                               amenities  ...  \\\n",
            "1249   Wifi,Free parking on premises,Air conditioning...  ...   \n",
            "1337   Wifi,Free parking on premises,Pets allowed,Hai...  ...   \n",
            "1381   Garden view,River view,Waterfront,Kitchen,Wifi...  ...   \n",
            "4277   Kitchen,Wifi,Free parking on premises,Shared p...  ...   \n",
            "4315   Waterfront,Kitchen,Wifi,Free parking on premis...  ...   \n",
            "4366   Valley view,River view,Waterfront,Kitchen,Wifi...  ...   \n",
            "10645  Kitchen,Wifi,Free parking on premises,Washing ...  ...   \n",
            "11235  Kitchen,Wifi,Free parking on premises,Pool,TV ...  ...   \n",
            "\n",
            "                     country bathrooms beds  guests toiles  bedrooms  studios  \\\n",
            "1249               Indonesia       1.0  1.0     2.0    0.0       1.0      0.0   \n",
            "1337          United Kingdom       0.0  3.0     4.0    0.0       1.0      0.0   \n",
            "1381           United States       2.0  3.0     4.0    0.0       2.0      0.0   \n",
            "4277                  Israel       2.0  7.0     7.0    0.0       3.0      0.0   \n",
            "4315                   Egypt       1.0  0.0     6.0    0.0       1.0      0.0   \n",
            "4366                   Egypt       1.0  0.0     6.0    0.0       0.0      0.0   \n",
            "10645                Germany       1.0  1.0     2.0    0.0       1.0      0.0   \n",
            "11235   United Arab Emirates       2.0  3.0     4.0    0.0       2.0      0.0   \n",
            "\n",
            "                   checkin   checkout  rating_num  \n",
            "1249         After 2 00 pm   12 00 pm         NaN  \n",
            "1337    3 00 pm - 12 00 am   12 00 pm         NaN  \n",
            "1381         After 3 00 pm   10 00 am         NaN  \n",
            "4277     9 00 am - 8 00 pm    2 00 pm         NaN  \n",
            "4315              Flexible        NaN         NaN  \n",
            "4366              Flexible   12 00 pm         NaN  \n",
            "10645             Flexible   11 00 am         NaN  \n",
            "11235        After 3 00 pm   11 00 am         NaN  \n",
            "\n",
            "[8 rows x 24 columns]\n"
          ]
        }
      ]
    },
    {
      "cell_type": "code",
      "source": [
        "print(df[['price', 'rating', 'reviews', 'bedrooms']].describe())\n"
      ],
      "metadata": {
        "id": "e-31aaDitHPe",
        "outputId": "4835ea66-0753-494c-e9d3-0a3f15bde586",
        "colab": {
          "base_uri": "https://localhost:8080/"
        }
      },
      "execution_count": null,
      "outputs": [
        {
          "output_type": "stream",
          "name": "stdout",
          "text": [
            "              price      bedrooms\n",
            "count  1.280500e+04  12805.000000\n",
            "mean   1.769780e+04      2.136041\n",
            "std    4.569364e+04      2.359005\n",
            "min    3.930000e+02      0.000000\n",
            "25%    3.994000e+03      1.000000\n",
            "50%    8.175000e+03      1.000000\n",
            "75%    1.606200e+04      3.000000\n",
            "max    1.907963e+06     50.000000\n"
          ]
        }
      ]
    },
    {
      "cell_type": "markdown",
      "source": [
        "# Correlation analysis of the numeric types"
      ],
      "metadata": {
        "id": "o2emoscB9wx8"
      }
    },
    {
      "cell_type": "code",
      "source": [
        "# Select the relevant columns\n",
        "cols_of_interest = [\"id\", \"host_id\", \"price\", \"bathrooms\", \"beds\", \"guests\", \"toilets\", \"bedrooms\", \"studios\",\"rating\"]\n",
        "data_subset = df[cols_of_interest]\n",
        "\n",
        "# Compute the correlation matrix\n",
        "correlation_matrix = data_subset.corr(numeric_only=True)\n",
        "\n",
        "# Display correlation matrix\n",
        "print(correlation_matrix)\n",
        "\n",
        "# Visualize the correlation matrix using a heatmap\n",
        "plt.figure(figsize=(10, 8))\n",
        "sns.heatmap(correlation_matrix, annot=True, fmt=\".2f\", cmap='coolwarm', square=True)\n",
        "plt.title(\"Correlation Heatmap\")\n",
        "plt.tight_layout()\n",
        "plt.show()"
      ],
      "metadata": {
        "colab": {
          "base_uri": "https://localhost:8080/",
          "height": 1000
        },
        "id": "1pKGltTw92t7",
        "outputId": "d2f2b9e4-2c83-4f40-b3a2-80003d91d868"
      },
      "execution_count": 6,
      "outputs": [
        {
          "output_type": "stream",
          "name": "stdout",
          "text": [
            "                 id   host_id     price  bathrooms      beds    guests  \\\n",
            "id         1.000000  0.327483  0.009644   0.007477 -0.033437  0.005234   \n",
            "host_id    0.327483  1.000000 -0.025077  -0.010993 -0.027988 -0.003600   \n",
            "price      0.009644 -0.025077  1.000000   0.364693  0.233677  0.323393   \n",
            "bathrooms  0.007477 -0.010993  0.364693   1.000000  0.603499  0.665468   \n",
            "beds      -0.033437 -0.027988  0.233677   0.603499  1.000000  0.673115   \n",
            "guests     0.005234 -0.003600  0.323393   0.665468  0.673115  1.000000   \n",
            "toilets    0.008631  0.003658 -0.011519  -0.125441 -0.041979 -0.069845   \n",
            "bedrooms  -0.006563 -0.014565  0.339388   0.820780  0.772294  0.713547   \n",
            "studios   -0.034070 -0.012683 -0.036399  -0.065229 -0.058969 -0.077903   \n",
            "\n",
            "            toilets  bedrooms   studios  \n",
            "id         0.008631 -0.006563 -0.034070  \n",
            "host_id    0.003658 -0.014565 -0.012683  \n",
            "price     -0.011519  0.339388 -0.036399  \n",
            "bathrooms -0.125441  0.820780 -0.065229  \n",
            "beds      -0.041979  0.772294 -0.058969  \n",
            "guests    -0.069845  0.713547 -0.077903  \n",
            "toilets    1.000000 -0.069573  0.004492  \n",
            "bedrooms  -0.069573  1.000000 -0.140732  \n",
            "studios    0.004492 -0.140732  1.000000  \n"
          ]
        },
        {
          "output_type": "display_data",
          "data": {
            "text/plain": [
              "<Figure size 1000x800 with 2 Axes>"
            ],
            "image/png": "[encoded data removed]"
          },
          "metadata": {}
        }
      ]
    },
    {
      "cell_type": "markdown",
      "source": [
        "# Categorical Features"
      ],
      "metadata": {
        "id": "O8i-2VyYAdmb"
      }
    },
    {
      "cell_type": "code",
      "source": [
        "categorical_cols = [\n",
        "    'name', 'rating', 'reviews', 'host_name', 'address',\n",
        "    'features', 'amenities', 'safety_rules', 'hourse_rules',\n",
        "    'img_links', 'country', 'checkin', 'checkout'\n",
        "]"
      ],
      "metadata": {
        "id": "7A_DWn8cAtB_"
      },
      "execution_count": 10,
      "outputs": []
    },
    {
      "cell_type": "code",
      "source": [
        "distinct_values = df['rating'].unique()\n",
        "print(distinct_values)"
      ],
      "metadata": {
        "colab": {
          "base_uri": "https://localhost:8080/"
        },
        "id": "tZ1tlzcQG34q",
        "outputId": "59901573-5645-4d04-e295-df4e39b61031"
      },
      "execution_count": 20,
      "outputs": [
        {
          "output_type": "stream",
          "name": "stdout",
          "text": [
            "['4.71' 'New' '4.85' '5.0' '4.67' '4.97' '4.89' '4.83' '4.87' '4.9' '4.75'\n",
            " '4.76' '4.84' '4.79' '4.82' '4.93' '4.96' '4.6' '4.64' '4.68' '4.8'\n",
            " '4.69' '4.58' '4.63' '4.91' '4.88' '4.94' '4.92' '4.86' '4.78' '4.57'\n",
            " '4.99' '4.98' '4.74' '4.7' '4.77' '4.72' '4.73' '4.95' '4.81' '4.53'\n",
            " '4.59' '4.62' '4.61' '4.51' '4.54' '4.56' '4.65' '4.55' '4.66' '4.52'\n",
            " '4.5' '4.33' '4.26' '3.33' '4.2' '4.0' '4.48' '4.38' '3.0' '4.49' '4.28'\n",
            " '4.45' '4.25' '4.36' '4.46' '4.44' '4.43' '3.75' '3.25' '4.13' '4.15'\n",
            " '3.88' '4.29' '4.4' '3.5' '4.31']\n"
          ]
        }
      ]
    },
    {
      "cell_type": "code",
      "source": [
        "df['reviews'].unique()"
      ],
      "metadata": {
        "colab": {
          "base_uri": "https://localhost:8080/"
        },
        "id": "vzrAb2quzA2U",
        "outputId": "5822d2ea-9f42-4e95-d177-aeaeba3a5304"
      },
      "execution_count": 32,
      "outputs": [
        {
          "output_type": "execute_result",
          "data": {
            "text/plain": [
              "array(['64', '0', '68', '13', '3', '77', '55', '116', '23', '21', '8',\n",
              "       '52', '17', '61', '49', '38', '4', '15', '26', '5', '2', '85', '9',\n",
              "       '20', '11', '7', '1', '241', '41', '10', '25', '154', '44', '19',\n",
              "       '58', '137', '33', '12', '18', '16', '113', '125', '42', '244',\n",
              "       '27', '188', '34', '69', '97', '6', '86', '114', '65', '91', '32',\n",
              "       '53', '231', '99', '14', '120', '29', '28', '22', '123', '90',\n",
              "       '124', '110', '79', '93', '54', '59', '74', '31', '48', '30', '89',\n",
              "       '92', '35', '24', '229', '40', '102', '39', '194', '100', '147',\n",
              "       '37', '78', '88', '71', '130', '576', '1,003', '261', '726', '127',\n",
              "       '76', '84', '36', '60', '192', '46', '135', '62', '159', '158',\n",
              "       '45', '95', '104', '211', '43', '121', '109', '210', '107', '98',\n",
              "       '310', '96', '73', '50', '82', '66', '943', '254', '571', '72',\n",
              "       '51', '246', '136', '165', '67', '807', '262', '548', '266', '181',\n",
              "       '141', '171', '271', '160', '56', '608', '346', '174', '316',\n",
              "       '215', '87', '112', '173', '144', '238', '675', '201', '161', '57',\n",
              "       '81', '239', '328', '193', '151', '237', '111', '268', '149',\n",
              "       '138', '420', '47', '221', '219', '146', '63', '189', '162', '152',\n",
              "       '80', '222', '70', '133', '75', '208', '195', '167', '170', '156',\n",
              "       '108', '94', '166', '214', '286', '212', '105', '290', '117',\n",
              "       '126', '543', '249', '169', '119', '180', '183', '172', '83',\n",
              "       '276', '142', '385', '134', '393', '150', '475', '379', '277',\n",
              "       '199', '177', '299', '370', '364', '234', '380', '255', '140',\n",
              "       '780', '252', '473', '186', '205', '213', '103', '232', '143',\n",
              "       '175', '163', '259', '484', '329', '139', '118', '716', '532',\n",
              "       '519', '308', '317', '258', '339', '115', '128', '476', '176',\n",
              "       '285', '182', '275', '553', '703', '278', '549', '185', '340',\n",
              "       '493', '448', '164', '157', '318', '168', '223', '106', '101',\n",
              "       '302', '545', '153', '455', '517', '248', '284', '148', '129',\n",
              "       '273', '264', '187', '377', '295', '311', '353', '131', '200',\n",
              "       '337', '555', '538', '243', '233', '256', '351', '291', '184',\n",
              "       '253', '263', '642', '216', '269', '132', '240', '242', '247',\n",
              "       '250', '122', '145', '338', '489', '265', '315', '320', '342',\n",
              "       '217', '179', '204', '218', '440', '228', '371', '306', '230',\n",
              "       '191', '361', '304', '347', '296', '456', '236', '419', '155',\n",
              "       '196', '209', '197', '297', '433', '270', '206', '330', '332',\n",
              "       '363', '378', '348', '331', '279', '485', '300', '178', '373',\n",
              "       '354', '326', '207', '305', '224', '198', '225', '202', '499',\n",
              "       '434', '410', '541', '439', '369', '390', '288', '282', '226',\n",
              "       '274', '313', '303', '251', '292', '386', '203', '423', '190',\n",
              "       '504', '469', '235', '374', '319', '245', '352', '220', '325',\n",
              "       '321', '272', '260', '227', '492', '497', '350', '406', '280',\n",
              "       '665', '638', '324', '570', '496', '529', '294'], dtype=object)"
            ]
          },
          "metadata": {},
          "execution_count": 32
        }
      ]
    },
    {
      "cell_type": "code",
      "source": [
        "df['rating'].value_counts()"
      ],
      "metadata": {
        "colab": {
          "base_uri": "https://localhost:8080/",
          "height": 489
        },
        "id": "R5zrWWUzKSPU",
        "outputId": "9b4d9dfd-04c8-4979-890a-202c8aa33d0a"
      },
      "execution_count": 24,
      "outputs": [
        {
          "output_type": "execute_result",
          "data": {
            "text/plain": [
              "rating\n",
              "4.856222    3791\n",
              "5.000000    1813\n",
              "4.670000     251\n",
              "4.900000     250\n",
              "4.880000     247\n",
              "            ... \n",
              "3.880000       1\n",
              "4.290000       1\n",
              "4.400000       1\n",
              "3.500000       1\n",
              "4.310000       1\n",
              "Name: count, Length: 77, dtype: int64"
            ],
            "text/html": [
              "<div>\n",
              "<style scoped>\n",
              "    .dataframe tbody tr th:only-of-type {\n",
              "        vertical-align: middle;\n",
              "    }\n",
              "\n",
              "    .dataframe tbody tr th {\n",
              "        vertical-align: top;\n",
              "    }\n",
              "\n",
              "    .dataframe thead th {\n",
              "        text-align: right;\n",
              "    }\n",
              "</style>\n",
              "<table border=\"1\" class=\"dataframe\">\n",
              "  <thead>\n",
              "    <tr style=\"text-align: right;\">\n",
              "      <th></th>\n",
              "      <th>count</th>\n",
              "    </tr>\n",
              "    <tr>\n",
              "      <th>rating</th>\n",
              "      <th></th>\n",
              "    </tr>\n",
              "  </thead>\n",
              "  <tbody>\n",
              "    <tr>\n",
              "      <th>4.856222</th>\n",
              "      <td>3791</td>\n",
              "    </tr>\n",
              "    <tr>\n",
              "      <th>5.000000</th>\n",
              "      <td>1813</td>\n",
              "    </tr>\n",
              "    <tr>\n",
              "      <th>4.670000</th>\n",
              "      <td>251</td>\n",
              "    </tr>\n",
              "    <tr>\n",
              "      <th>4.900000</th>\n",
              "      <td>250</td>\n",
              "    </tr>\n",
              "    <tr>\n",
              "      <th>4.880000</th>\n",
              "      <td>247</td>\n",
              "    </tr>\n",
              "    <tr>\n",
              "      <th>...</th>\n",
              "      <td>...</td>\n",
              "    </tr>\n",
              "    <tr>\n",
              "      <th>3.880000</th>\n",
              "      <td>1</td>\n",
              "    </tr>\n",
              "    <tr>\n",
              "      <th>4.290000</th>\n",
              "      <td>1</td>\n",
              "    </tr>\n",
              "    <tr>\n",
              "      <th>4.400000</th>\n",
              "      <td>1</td>\n",
              "    </tr>\n",
              "    <tr>\n",
              "      <th>3.500000</th>\n",
              "      <td>1</td>\n",
              "    </tr>\n",
              "    <tr>\n",
              "      <th>4.310000</th>\n",
              "      <td>1</td>\n",
              "    </tr>\n",
              "  </tbody>\n",
              "</table>\n",
              "<p>77 rows × 1 columns</p>\n",
              "</div><br><label><b>dtype:</b> int64</label>"
            ]
          },
          "metadata": {},
          "execution_count": 24
        }
      ]
    },
    {
      "cell_type": "code",
      "source": [
        "duplicates = df[df.duplicated(keep='first')]\n",
        "print(f\"Number of duplicate rows: {len(duplicates)}\")\n",
        "duplicates.head()"
      ],
      "metadata": {
        "colab": {
          "base_uri": "https://localhost:8080/",
          "height": 133
        },
        "id": "16XDPx5-NB4w",
        "outputId": "83145c84-7593-43c2-e245-6fe8b5f76da8"
      },
      "execution_count": 22,
      "outputs": [
        {
          "output_type": "stream",
          "name": "stdout",
          "text": [
            "Number of duplicate rows: 0\n"
          ]
        },
        {
          "output_type": "execute_result",
          "data": {
            "text/plain": [
              "Empty DataFrame\n",
              "Columns: [Unnamed: 0, id, name, rating, reviews, host_name, host_id, address, features, amenities, safety_rules, hourse_rules, img_links, price, country, bathrooms, beds, guests, toiles, bedrooms, studios, checkin, checkout, rating_num]\n",
              "Index: []\n",
              "\n",
              "[0 rows x 24 columns]"
            ],
            "text/html": [
              "\n",
              "  <div id=\"df-55ce7981-6cb2-4ef4-85b9-ae0f67e5013d\" class=\"colab-df-container\">\n",
              "    <div>\n",
              "<style scoped>\n",
              "    .dataframe tbody tr th:only-of-type {\n",
              "        vertical-align: middle;\n",
              "    }\n",
              "\n",
              "    .dataframe tbody tr th {\n",
              "        vertical-align: top;\n",
              "    }\n",
              "\n",
              "    .dataframe thead th {\n",
              "        text-align: right;\n",
              "    }\n",
              "</style>\n",
              "<table border=\"1\" class=\"dataframe\">\n",
              "  <thead>\n",
              "    <tr style=\"text-align: right;\">\n",
              "      <th></th>\n",
              "      <th>Unnamed: 0</th>\n",
              "      <th>id</th>\n",
              "      <th>name</th>\n",
              "      <th>rating</th>\n",
              "      <th>reviews</th>\n",
              "      <th>host_name</th>\n",
              "      <th>host_id</th>\n",
              "      <th>address</th>\n",
              "      <th>features</th>\n",
              "      <th>amenities</th>\n",
              "      <th>...</th>\n",
              "      <th>country</th>\n",
              "      <th>bathrooms</th>\n",
              "      <th>beds</th>\n",
              "      <th>guests</th>\n",
              "      <th>toiles</th>\n",
              "      <th>bedrooms</th>\n",
              "      <th>studios</th>\n",
              "      <th>checkin</th>\n",
              "      <th>checkout</th>\n",
              "      <th>rating_num</th>\n",
              "    </tr>\n",
              "  </thead>\n",
              "  <tbody>\n",
              "  </tbody>\n",
              "</table>\n",
              "<p>0 rows × 24 columns</p>\n",
              "</div>\n",
              "    <div class=\"colab-df-buttons\">\n",
              "\n",
              "  <div class=\"colab-df-container\">\n",
              "    <button class=\"colab-df-convert\" onclick=\"convertToInteractive('df-55ce7981-6cb2-4ef4-85b9-ae0f67e5013d')\"\n",
              "            title=\"Convert this dataframe to an interactive table.\"\n",
              "            style=\"display:none;\">\n",
              "\n",
              "  <svg xmlns=\"http://www.w3.org/2000/svg\" height=\"24px\" viewBox=\"0 -960 960 960\">\n",
              "    <path d=\"M120-120v-720h720v720H120Zm60-500h600v-160H180v160Zm220 220h160v-160H400v160Zm0 220h160v-160H400v160ZM180-400h160v-160H180v160Zm440 0h160v-160H620v160ZM180-180h160v-160H180v160Zm440 0h160v-160H620v160Z\"/>\n",
              "  </svg>\n",
              "    </button>\n",
              "\n",
              "  <style>\n",
              "    .colab-df-container {\n",
              "      display:flex;\n",
              "      gap: 12px;\n",
              "    }\n",
              "\n",
              "    .colab-df-convert {\n",
              "      background-color: #E8F0FE;\n",
              "      border: none;\n",
              "      border-radius: 50%;\n",
              "      cursor: pointer;\n",
              "      display: none;\n",
              "      fill: #1967D2;\n",
              "      height: 32px;\n",
              "      padding: 0 0 0 0;\n",
              "      width: 32px;\n",
              "    }\n",
              "\n",
              "    .colab-df-convert:hover {\n",
              "      background-color: #E2EBFA;\n",
              "      box-shadow: 0px 1px 2px rgba(60, 64, 67, 0.3), 0px 1px 3px 1px rgba(60, 64, 67, 0.15);\n",
              "      fill: #174EA6;\n",
              "    }\n",
              "\n",
              "    .colab-df-buttons div {\n",
              "      margin-bottom: 4px;\n",
              "    }\n",
              "\n",
              "    [theme=dark] .colab-df-convert {\n",
              "      background-color: #3B4455;\n",
              "      fill: #D2E3FC;\n",
              "    }\n",
              "\n",
              "    [theme=dark] .colab-df-convert:hover {\n",
              "      background-color: #434B5C;\n",
              "      box-shadow: 0px 1px 3px 1px rgba(0, 0, 0, 0.15);\n",
              "      filter: drop-shadow(0px 1px 2px rgba(0, 0, 0, 0.3));\n",
              "      fill: #FFFFFF;\n",
              "    }\n",
              "  </style>\n",
              "\n",
              "    <script>\n",
              "      const buttonEl =\n",
              "        document.querySelector('#df-55ce7981-6cb2-4ef4-85b9-ae0f67e5013d button.colab-df-convert');\n",
              "      buttonEl.style.display =\n",
              "        google.colab.kernel.accessAllowed ? 'block' : 'none';\n",
              "\n",
              "      async function convertToInteractive(key) {\n",
              "        const element = document.querySelector('#df-55ce7981-6cb2-4ef4-85b9-ae0f67e5013d');\n",
              "        const dataTable =\n",
              "          await google.colab.kernel.invokeFunction('convertToInteractive',\n",
              "                                                    [key], {});\n",
              "        if (!dataTable) return;\n",
              "\n",
              "        const docLinkHtml = 'Like what you see? Visit the ' +\n",
              "          '<a target=\"_blank\" href=https://colab.research.google.com/notebooks/data_table.ipynb>data table notebook</a>'\n",
              "          + ' to learn more about interactive tables.';\n",
              "        element.innerHTML = '';\n",
              "        dataTable['output_type'] = 'display_data';\n",
              "        await google.colab.output.renderOutput(dataTable, element);\n",
              "        const docLink = document.createElement('div');\n",
              "        docLink.innerHTML = docLinkHtml;\n",
              "        element.appendChild(docLink);\n",
              "      }\n",
              "    </script>\n",
              "  </div>\n",
              "\n",
              "\n",
              "    </div>\n",
              "  </div>\n"
            ],
            "application/vnd.google.colaboratory.intrinsic+json": {
              "type": "dataframe",
              "variable_name": "duplicates"
            }
          },
          "metadata": {},
          "execution_count": 22
        }
      ]
    },
    {
      "cell_type": "markdown",
      "source": [
        "# Replace \"New\" with Average Rating"
      ],
      "metadata": {
        "id": "Q0vlkwz7Q2Zr"
      }
    },
    {
      "cell_type": "code",
      "source": [
        "# First convert all non-\"New\" ratings to numeric\n",
        "df['rating'] = pd.to_numeric(df['rating'], errors='coerce')\n",
        "\n",
        "# Calculate mean excluding \"New\" (which are now NaN)\n",
        "mean_rating = df['rating'].mean()\n",
        "\n",
        "# Fill NaN (previously \"New\") with mean\n",
        "df['rating'] = df['rating'].fillna(mean_rating)"
      ],
      "metadata": {
        "id": "BTbQPy-4Q3xD"
      },
      "execution_count": 7,
      "outputs": []
    },
    {
      "cell_type": "markdown",
      "source": [
        "### The plan is to count the number of amenities separated by \",\" then, stop counting when it reaches 'Unavailable', then, replacing the row value with the corresponding row value of number of amenities."
      ],
      "metadata": {
        "id": "v9XF6ESCjtbW"
      }
    },
    {
      "cell_type": "code",
      "source": [
        "def count_amenities(amenity_string):\n",
        "    if pd.isna(amenity_string):\n",
        "        return 0\n",
        "    amenities = amenity_string.split(',')\n",
        "    count = 0\n",
        "    for amenity in amenities:\n",
        "        if 'Unavailable' in amenity:\n",
        "            break\n",
        "        count += 1\n",
        "    return count\n",
        "\n",
        "# Apply the function to count amenities\n",
        "df['amenities_count'] = df['amenities'].apply(count_amenities)\n",
        "\n",
        "# Replace the original amenities column with just the count (if desired)\n",
        "df['amenities'] = df['amenities_count']\n",
        "\n",
        "# Optional: Drop the temporary count column\n",
        "# df.drop('amenities_count', axis=1, inplace=True)"
      ],
      "metadata": {
        "id": "Ryo-gJlEje1R"
      },
      "execution_count": 8,
      "outputs": []
    },
    {
      "cell_type": "markdown",
      "source": [
        "### Using label encoder to transform 'Country' column values to numeric ones"
      ],
      "metadata": {
        "id": "vlmS4nHOoDrv"
      }
    },
    {
      "cell_type": "code",
      "source": [
        "\n",
        "# Initialize LabelEncoder\n",
        "label_encoder = LabelEncoder()\n",
        "\n",
        "# Fit and transform the 'country' column\n",
        "df['country_encoded'] = label_encoder.fit_transform(df['country'])\n",
        "\n",
        "# Check the mapping (optional)\n",
        "country_mapping = dict(zip(label_encoder.classes_, label_encoder.transform(label_encoder.classes_)))\n",
        "print(\"Country to Numeric Mapping:\", country_mapping)"
      ],
      "metadata": {
        "colab": {
          "base_uri": "https://localhost:8080/"
        },
        "id": "Ru3NYoQ8mqST",
        "outputId": "9b989673-d57d-45e7-b7c7-c6c1efa9c8af"
      },
      "execution_count": 9,
      "outputs": [
        {
          "output_type": "stream",
          "name": "stdout",
          "text": [
            "Country to Numeric Mapping: {' Albania': np.int64(0), ' Argentina': np.int64(1), ' Armenia': np.int64(2), ' Australia': np.int64(3), ' Austria': np.int64(4), ' Azerbaijan': np.int64(5), ' Bahamas': np.int64(6), ' Bangladesh': np.int64(7), ' Belgium': np.int64(8), ' Belize': np.int64(9), ' Bolivia': np.int64(10), ' Bosnia & Herzegovina': np.int64(11), ' Brazil': np.int64(12), ' Brunei': np.int64(13), ' Bulgaria': np.int64(14), ' Cambodia': np.int64(15), ' Canada': np.int64(16), ' Cayman Islands': np.int64(17), ' Chile': np.int64(18), ' Colombia': np.int64(19), ' Congo': np.int64(20), ' Costa Rica': np.int64(21), ' Croatia': np.int64(22), ' Cuba': np.int64(23), ' Cyprus': np.int64(24), ' Czechia': np.int64(25), ' Denmark': np.int64(26), ' Egypt': np.int64(27), ' Estonia': np.int64(28), ' Fiji': np.int64(29), ' Finland': np.int64(30), ' France': np.int64(31), ' French Polynesia': np.int64(32), ' Georgia': np.int64(33), ' Germany': np.int64(34), ' Greece': np.int64(35), ' Greenland': np.int64(36), ' Guadeloupe': np.int64(37), ' Guatemala': np.int64(38), ' Honduras': np.int64(39), ' Hong Kong': np.int64(40), ' Hungary': np.int64(41), ' Iceland': np.int64(42), ' India': np.int64(43), ' Indonesia': np.int64(44), ' Ireland': np.int64(45), ' Israel': np.int64(46), ' Italy': np.int64(47), ' Jamaica': np.int64(48), ' Japan': np.int64(49), ' Jordan': np.int64(50), ' Kazakhstan': np.int64(51), ' Kenya': np.int64(52), ' Kosovo': np.int64(53), ' Kuwait': np.int64(54), ' Kyrgyzstan': np.int64(55), ' Latvia': np.int64(56), ' Lebanon': np.int64(57), ' Liechtenstein': np.int64(58), ' Lithuania': np.int64(59), ' Madagascar': np.int64(60), ' Malaysia': np.int64(61), ' Maldives': np.int64(62), ' Malta': np.int64(63), ' Mauritius': np.int64(64), ' Mexico': np.int64(65), ' Mongolia': np.int64(66), ' Montenegro': np.int64(67), ' Morocco': np.int64(68), ' Myanmar': np.int64(69), ' Namibia': np.int64(70), ' Nepal': np.int64(71), ' Netherlands': np.int64(72), ' New Zealand': np.int64(73), ' Nicaragua': np.int64(74), ' Nigeria': np.int64(75), ' Norway': np.int64(76), ' Oman': np.int64(77), ' Pakistan': np.int64(78), ' Panama': np.int64(79), ' Peru': np.int64(80), ' Philippines': np.int64(81), ' Poland': np.int64(82), ' Portugal': np.int64(83), ' Puerto Rico': np.int64(84), ' Qatar': np.int64(85), ' Romania': np.int64(86), ' Rwanda': np.int64(87), ' Saudi Arabia': np.int64(88), ' Senegal': np.int64(89), ' Serbia': np.int64(90), ' Seychelles': np.int64(91), ' Singapore': np.int64(92), ' Slovakia': np.int64(93), ' Slovenia': np.int64(94), ' South Africa': np.int64(95), ' South Korea': np.int64(96), ' Spain': np.int64(97), ' Sri Lanka': np.int64(98), ' St Martin': np.int64(99), ' Svalbard & Jan Mayen': np.int64(100), ' Sweden': np.int64(101), ' Switzerland': np.int64(102), ' Taiwan': np.int64(103), ' Tanzania': np.int64(104), ' Thailand': np.int64(105), ' Tunisia': np.int64(106), ' Turkey': np.int64(107), ' Uganda': np.int64(108), ' Ukraine': np.int64(109), ' United Arab Emirates': np.int64(110), ' United Kingdom': np.int64(111), ' United States': np.int64(112), ' Uruguay': np.int64(113), ' Uzbekistan': np.int64(114), ' Vanuatu': np.int64(115), ' Vietnam': np.int64(116), ' Åland Islands': np.int64(117), 'Belize': np.int64(118), 'Bulgaria': np.int64(119), 'Cuba': np.int64(120), 'Egypt': np.int64(121), 'Georgia': np.int64(122), 'Greece': np.int64(123), 'Iceland': np.int64(124), 'India': np.int64(125), 'Isle of Man': np.int64(126), 'Israel': np.int64(127), 'Italy': np.int64(128), 'Japan': np.int64(129), 'Jordan': np.int64(130), 'Latvia': np.int64(131), 'Malaysia': np.int64(132), 'Maldives': np.int64(133), 'Montenegro': np.int64(134), 'Morocco': np.int64(135), 'Norway': np.int64(136), 'Panama': np.int64(137), 'Philippines': np.int64(138), 'Portugal': np.int64(139), 'Puerto Rico': np.int64(140), 'Saudi Arabia': np.int64(141), 'Serbia': np.int64(142), 'Sri Lanka': np.int64(143), 'Taiwan': np.int64(144), 'Thailand': np.int64(145), 'Turkey': np.int64(146), 'United Kingdom': np.int64(147)}\n"
          ]
        }
      ]
    },
    {
      "cell_type": "markdown",
      "source": [
        "### Load & Prepare Data"
      ],
      "metadata": {
        "id": "r58MwJjp6T8-"
      }
    },
    {
      "cell_type": "markdown",
      "source": [
        "### ANN Model"
      ],
      "metadata": {
        "id": "_YAqw6J8-FHb"
      }
    },
    {
      "cell_type": "markdown",
      "source": [
        "### Model Training"
      ],
      "metadata": {
        "id": "z4BMjy38-uAM"
      }
    },
    {
      "cell_type": "markdown",
      "source": [
        "### Plot Training Progress"
      ],
      "metadata": {
        "id": "Cbw-VgTK_rp1"
      }
    },
    {
      "cell_type": "markdown",
      "source": [
        "### Evaluate the Model"
      ],
      "metadata": {
        "id": "0vZFjNIjAAPN"
      }
    },
    {
      "cell_type": "markdown",
      "source": [
        "### Predict on the test data"
      ],
      "metadata": {
        "id": "m9g473KmAF2e"
      }
    },
    {
      "cell_type": "markdown",
      "source": [
        "### Calculate Metrics"
      ],
      "metadata": {
        "id": "jv-QZaTYAPgz"
      }
    },
    {
      "cell_type": "markdown",
      "source": [
        "### After FIX"
      ],
      "metadata": {
        "id": "ofooMeU3W5B3"
      }
    },
    {
      "cell_type": "code",
      "source": [
        "\n",
        "\n",
        "# 1. Feature Selection\n",
        "X = df[['rating', 'reviews', 'amenities', 'country_encoded', 'bathrooms',\n",
        "        'beds', 'guests', 'toilets', 'bedrooms', 'studios']]\n",
        "y = df['price']\n",
        "\n",
        "# 2. Handle NaN and Inf Values\n",
        "X = np.nan_to_num(X, nan=0.0, posinf=np.nanmax(X.values), neginf=np.nanmin(X.values))\n",
        "y = np.nan_to_num(y, nan=np.nanmean(y), posinf=np.nanmax(y), neginf=np.nanmin(y))\n",
        "\n",
        "# 3. Train-test Split\n",
        "X_train, X_test, y_train, y_test = train_test_split(X, y, test_size=0.2, random_state=42)\n",
        "\n",
        "# 4. Scaling Features and Target\n",
        "scaler = StandardScaler()\n",
        "X_train_scaled = scaler.fit_transform(X_train)\n",
        "X_test_scaled = scaler.transform(X_test)\n",
        "\n",
        "y_scaler = StandardScaler()\n",
        "y_train_scaled = y_scaler.fit_transform(y_train.reshape(-1, 1)).flatten()\n",
        "y_test_scaled = y_scaler.transform(y_test.reshape(-1, 1)).flatten()\n",
        "\n",
        "# 5. Model Architecture\n",
        "model = Sequential([\n",
        "    Input(shape=(X_train_scaled.shape[1],)),\n",
        "    Dense(64, activation='relu', kernel_initializer='he_normal'),\n",
        "    Dropout(0.3),\n",
        "    Dense(32, activation='relu', kernel_initializer='he_normal'),\n",
        "    Dense(1)\n",
        "])\n",
        "\n",
        "# 6. Compile the Model\n",
        "model.compile(\n",
        "    optimizer=Adam(learning_rate=0.001, clipnorm=1.0),\n",
        "    loss=Huber(),  # ✅ Correct loss usage\n",
        "    metrics=['mae']\n",
        ")\n",
        "\n",
        "# 7. Train the Model with Early Stopping\n",
        "early_stop = EarlyStopping(monitor='val_loss', patience=10, restore_best_weights=True)\n",
        "\n",
        "history = model.fit(\n",
        "    X_train_scaled,\n",
        "    y_train_scaled,\n",
        "    validation_data=(X_test_scaled, y_test_scaled),\n",
        "    epochs=100,\n",
        "    batch_size=32,\n",
        "    callbacks=[early_stop],\n",
        "    verbose=1\n",
        ")\n",
        "\n",
        "# 8. Evaluate the Model\n",
        "y_pred_scaled = model.predict(X_test_scaled)\n",
        "y_pred = y_scaler.inverse_transform(y_pred_scaled)\n",
        "\n",
        "print(\"\\nEvaluation Metrics:\")\n",
        "print(\"MAE:\", mean_absolute_error(y_test, y_pred))\n",
        "print(\"RMSE:\", np.sqrt(mean_squared_error(y_test, y_pred)))\n",
        "print(\"R2 Score:\", r2_score(y_test, y_pred))\n"
      ],
      "metadata": {
        "colab": {
          "base_uri": "https://localhost:8080/"
        },
        "id": "xwDF9XATW8HE",
        "outputId": "a8a96066-5b28-476e-c9e3-4e832ec026b8"
      },
      "execution_count": 10,
      "outputs": [
        {
          "output_type": "stream",
          "name": "stdout",
          "text": [
            "Epoch 1/100\n",
            "\u001b[1m321/321\u001b[0m \u001b[32m━━━━━━━━━━━━━━━━━━━━\u001b[0m\u001b[37m\u001b[0m \u001b[1m3s\u001b[0m 3ms/step - loss: 0.2295 - mae: 0.4794 - val_loss: 0.1287 - val_mae: 0.2946\n",
            "Epoch 2/100\n",
            "\u001b[1m321/321\u001b[0m \u001b[32m━━━━━━━━━━━━━━━━━━━━\u001b[0m\u001b[37m\u001b[0m \u001b[1m1s\u001b[0m 3ms/step - loss: 0.1250 - mae: 0.3063 - val_loss: 0.1178 - val_mae: 0.2696\n",
            "Epoch 3/100\n",
            "\u001b[1m321/321\u001b[0m \u001b[32m━━━━━━━━━━━━━━━━━━━━\u001b[0m\u001b[37m\u001b[0m \u001b[1m1s\u001b[0m 3ms/step - loss: 0.1256 - mae: 0.2939 - val_loss: 0.1179 - val_mae: 0.2748\n",
            "Epoch 4/100\n",
            "\u001b[1m321/321\u001b[0m \u001b[32m━━━━━━━━━━━━━━━━━━━━\u001b[0m\u001b[37m\u001b[0m \u001b[1m1s\u001b[0m 3ms/step - loss: 0.1167 - mae: 0.2832 - val_loss: 0.1184 - val_mae: 0.2671\n",
            "Epoch 5/100\n",
            "\u001b[1m321/321\u001b[0m \u001b[32m━━━━━━━━━━━━━━━━━━━━\u001b[0m\u001b[37m\u001b[0m \u001b[1m1s\u001b[0m 3ms/step - loss: 0.1213 - mae: 0.2787 - val_loss: 0.1149 - val_mae: 0.2629\n",
            "Epoch 6/100\n",
            "\u001b[1m321/321\u001b[0m \u001b[32m━━━━━━━━━━━━━━━━━━━━\u001b[0m\u001b[37m\u001b[0m \u001b[1m1s\u001b[0m 3ms/step - loss: 0.1238 - mae: 0.2822 - val_loss: 0.1155 - val_mae: 0.2681\n",
            "Epoch 7/100\n",
            "\u001b[1m321/321\u001b[0m \u001b[32m━━━━━━━━━━━━━━━━━━━━\u001b[0m\u001b[37m\u001b[0m \u001b[1m2s\u001b[0m 5ms/step - loss: 0.1074 - mae: 0.2624 - val_loss: 0.1147 - val_mae: 0.2576\n",
            "Epoch 8/100\n",
            "\u001b[1m321/321\u001b[0m \u001b[32m━━━━━━━━━━━━━━━━━━━━\u001b[0m\u001b[37m\u001b[0m \u001b[1m1s\u001b[0m 4ms/step - loss: 0.1157 - mae: 0.2696 - val_loss: 0.1153 - val_mae: 0.2706\n",
            "Epoch 9/100\n",
            "\u001b[1m321/321\u001b[0m \u001b[32m━━━━━━━━━━━━━━━━━━━━\u001b[0m\u001b[37m\u001b[0m \u001b[1m1s\u001b[0m 3ms/step - loss: 0.1193 - mae: 0.2726 - val_loss: 0.1163 - val_mae: 0.2602\n",
            "Epoch 10/100\n",
            "\u001b[1m321/321\u001b[0m \u001b[32m━━━━━━━━━━━━━━━━━━━━\u001b[0m\u001b[37m\u001b[0m \u001b[1m1s\u001b[0m 3ms/step - loss: 0.1211 - mae: 0.2738 - val_loss: 0.1144 - val_mae: 0.2566\n",
            "Epoch 11/100\n",
            "\u001b[1m321/321\u001b[0m \u001b[32m━━━━━━━━━━━━━━━━━━━━\u001b[0m\u001b[37m\u001b[0m \u001b[1m1s\u001b[0m 3ms/step - loss: 0.1185 - mae: 0.2706 - val_loss: 0.1199 - val_mae: 0.2690\n",
            "Epoch 12/100\n",
            "\u001b[1m321/321\u001b[0m \u001b[32m━━━━━━━━━━━━━━━━━━━━\u001b[0m\u001b[37m\u001b[0m \u001b[1m1s\u001b[0m 3ms/step - loss: 0.1178 - mae: 0.2691 - val_loss: 0.1155 - val_mae: 0.2591\n",
            "Epoch 13/100\n",
            "\u001b[1m321/321\u001b[0m \u001b[32m━━━━━━━━━━━━━━━━━━━━\u001b[0m\u001b[37m\u001b[0m \u001b[1m1s\u001b[0m 3ms/step - loss: 0.1200 - mae: 0.2695 - val_loss: 0.1158 - val_mae: 0.2661\n",
            "Epoch 14/100\n",
            "\u001b[1m321/321\u001b[0m \u001b[32m━━━━━━━━━━━━━━━━━━━━\u001b[0m\u001b[37m\u001b[0m \u001b[1m1s\u001b[0m 3ms/step - loss: 0.1171 - mae: 0.2674 - val_loss: 0.1143 - val_mae: 0.2637\n",
            "Epoch 15/100\n",
            "\u001b[1m321/321\u001b[0m \u001b[32m━━━━━━━━━━━━━━━━━━━━\u001b[0m\u001b[37m\u001b[0m \u001b[1m1s\u001b[0m 3ms/step - loss: 0.1132 - mae: 0.2623 - val_loss: 0.1138 - val_mae: 0.2574\n",
            "Epoch 16/100\n",
            "\u001b[1m321/321\u001b[0m \u001b[32m━━━━━━━━━━━━━━━━━━━━\u001b[0m\u001b[37m\u001b[0m \u001b[1m1s\u001b[0m 3ms/step - loss: 0.1069 - mae: 0.2540 - val_loss: 0.1140 - val_mae: 0.2597\n",
            "Epoch 17/100\n",
            "\u001b[1m321/321\u001b[0m \u001b[32m━━━━━━━━━━━━━━━━━━━━\u001b[0m\u001b[37m\u001b[0m \u001b[1m1s\u001b[0m 4ms/step - loss: 0.1063 - mae: 0.2557 - val_loss: 0.1127 - val_mae: 0.2511\n",
            "Epoch 18/100\n",
            "\u001b[1m321/321\u001b[0m \u001b[32m━━━━━━━━━━━━━━━━━━━━\u001b[0m\u001b[37m\u001b[0m \u001b[1m2s\u001b[0m 5ms/step - loss: 0.1037 - mae: 0.2515 - val_loss: 0.1138 - val_mae: 0.2567\n",
            "Epoch 19/100\n",
            "\u001b[1m321/321\u001b[0m \u001b[32m━━━━━━━━━━━━━━━━━━━━\u001b[0m\u001b[37m\u001b[0m \u001b[1m2s\u001b[0m 3ms/step - loss: 0.1316 - mae: 0.2847 - val_loss: 0.1120 - val_mae: 0.2590\n",
            "Epoch 20/100\n",
            "\u001b[1m321/321\u001b[0m \u001b[32m━━━━━━━━━━━━━━━━━━━━\u001b[0m\u001b[37m\u001b[0m \u001b[1m1s\u001b[0m 3ms/step - loss: 0.1109 - mae: 0.2603 - val_loss: 0.1129 - val_mae: 0.2651\n",
            "Epoch 21/100\n",
            "\u001b[1m321/321\u001b[0m \u001b[32m━━━━━━━━━━━━━━━━━━━━\u001b[0m\u001b[37m\u001b[0m \u001b[1m1s\u001b[0m 3ms/step - loss: 0.1052 - mae: 0.2510 - val_loss: 0.1117 - val_mae: 0.2515\n",
            "Epoch 22/100\n",
            "\u001b[1m321/321\u001b[0m \u001b[32m━━━━━━━━━━━━━━━━━━━━\u001b[0m\u001b[37m\u001b[0m \u001b[1m1s\u001b[0m 3ms/step - loss: 0.1120 - mae: 0.2600 - val_loss: 0.1132 - val_mae: 0.2544\n",
            "Epoch 23/100\n",
            "\u001b[1m321/321\u001b[0m \u001b[32m━━━━━━━━━━━━━━━━━━━━\u001b[0m\u001b[37m\u001b[0m \u001b[1m1s\u001b[0m 3ms/step - loss: 0.1223 - mae: 0.2704 - val_loss: 0.1137 - val_mae: 0.2540\n",
            "Epoch 24/100\n",
            "\u001b[1m321/321\u001b[0m \u001b[32m━━━━━━━━━━━━━━━━━━━━\u001b[0m\u001b[37m\u001b[0m \u001b[1m1s\u001b[0m 3ms/step - loss: 0.1050 - mae: 0.2507 - val_loss: 0.1113 - val_mae: 0.2523\n",
            "Epoch 25/100\n",
            "\u001b[1m321/321\u001b[0m \u001b[32m━━━━━━━━━━━━━━━━━━━━\u001b[0m\u001b[37m\u001b[0m \u001b[1m1s\u001b[0m 3ms/step - loss: 0.1292 - mae: 0.2780 - val_loss: 0.1110 - val_mae: 0.2628\n",
            "Epoch 26/100\n",
            "\u001b[1m321/321\u001b[0m \u001b[32m━━━━━━━━━━━━━━━━━━━━\u001b[0m\u001b[37m\u001b[0m \u001b[1m1s\u001b[0m 4ms/step - loss: 0.1093 - mae: 0.2567 - val_loss: 0.1109 - val_mae: 0.2491\n",
            "Epoch 27/100\n",
            "\u001b[1m321/321\u001b[0m \u001b[32m━━━━━━━━━━━━━━━━━━━━\u001b[0m\u001b[37m\u001b[0m \u001b[1m2s\u001b[0m 5ms/step - loss: 0.1083 - mae: 0.2496 - val_loss: 0.1128 - val_mae: 0.2657\n",
            "Epoch 28/100\n",
            "\u001b[1m321/321\u001b[0m \u001b[32m━━━━━━━━━━━━━━━━━━━━\u001b[0m\u001b[37m\u001b[0m \u001b[1m2s\u001b[0m 3ms/step - loss: 0.1184 - mae: 0.2694 - val_loss: 0.1109 - val_mae: 0.2554\n",
            "Epoch 29/100\n",
            "\u001b[1m321/321\u001b[0m \u001b[32m━━━━━━━━━━━━━━━━━━━━\u001b[0m\u001b[37m\u001b[0m \u001b[1m1s\u001b[0m 3ms/step - loss: 0.1079 - mae: 0.2543 - val_loss: 0.1106 - val_mae: 0.2529\n",
            "Epoch 30/100\n",
            "\u001b[1m321/321\u001b[0m \u001b[32m━━━━━━━━━━━━━━━━━━━━\u001b[0m\u001b[37m\u001b[0m \u001b[1m1s\u001b[0m 3ms/step - loss: 0.1059 - mae: 0.2485 - val_loss: 0.1123 - val_mae: 0.2584\n",
            "Epoch 31/100\n",
            "\u001b[1m321/321\u001b[0m \u001b[32m━━━━━━━━━━━━━━━━━━━━\u001b[0m\u001b[37m\u001b[0m \u001b[1m1s\u001b[0m 3ms/step - loss: 0.1193 - mae: 0.2635 - val_loss: 0.1111 - val_mae: 0.2600\n",
            "Epoch 32/100\n",
            "\u001b[1m321/321\u001b[0m \u001b[32m━━━━━━━━━━━━━━━━━━━━\u001b[0m\u001b[37m\u001b[0m \u001b[1m1s\u001b[0m 3ms/step - loss: 0.1090 - mae: 0.2533 - val_loss: 0.1115 - val_mae: 0.2554\n",
            "Epoch 33/100\n",
            "\u001b[1m321/321\u001b[0m \u001b[32m━━━━━━━━━━━━━━━━━━━━\u001b[0m\u001b[37m\u001b[0m \u001b[1m1s\u001b[0m 3ms/step - loss: 0.1010 - mae: 0.2439 - val_loss: 0.1129 - val_mae: 0.2578\n",
            "Epoch 34/100\n",
            "\u001b[1m321/321\u001b[0m \u001b[32m━━━━━━━━━━━━━━━━━━━━\u001b[0m\u001b[37m\u001b[0m \u001b[1m1s\u001b[0m 3ms/step - loss: 0.1105 - mae: 0.2551 - val_loss: 0.1116 - val_mae: 0.2579\n",
            "Epoch 35/100\n",
            "\u001b[1m321/321\u001b[0m \u001b[32m━━━━━━━━━━━━━━━━━━━━\u001b[0m\u001b[37m\u001b[0m \u001b[1m1s\u001b[0m 3ms/step - loss: 0.1126 - mae: 0.2578 - val_loss: 0.1118 - val_mae: 0.2552\n",
            "Epoch 36/100\n",
            "\u001b[1m321/321\u001b[0m \u001b[32m━━━━━━━━━━━━━━━━━━━━\u001b[0m\u001b[37m\u001b[0m \u001b[1m2s\u001b[0m 5ms/step - loss: 0.1154 - mae: 0.2626 - val_loss: 0.1110 - val_mae: 0.2603\n",
            "Epoch 37/100\n",
            "\u001b[1m321/321\u001b[0m \u001b[32m━━━━━━━━━━━━━━━━━━━━\u001b[0m\u001b[37m\u001b[0m \u001b[1m2s\u001b[0m 3ms/step - loss: 0.1029 - mae: 0.2487 - val_loss: 0.1110 - val_mae: 0.2591\n",
            "Epoch 38/100\n",
            "\u001b[1m321/321\u001b[0m \u001b[32m━━━━━━━━━━━━━━━━━━━━\u001b[0m\u001b[37m\u001b[0m \u001b[1m1s\u001b[0m 3ms/step - loss: 0.1207 - mae: 0.2665 - val_loss: 0.1111 - val_mae: 0.2622\n",
            "Epoch 39/100\n",
            "\u001b[1m321/321\u001b[0m \u001b[32m━━━━━━━━━━━━━━━━━━━━\u001b[0m\u001b[37m\u001b[0m \u001b[1m1s\u001b[0m 3ms/step - loss: 0.1065 - mae: 0.2534 - val_loss: 0.1103 - val_mae: 0.2533\n",
            "Epoch 40/100\n",
            "\u001b[1m321/321\u001b[0m \u001b[32m━━━━━━━━━━━━━━━━━━━━\u001b[0m\u001b[37m\u001b[0m \u001b[1m1s\u001b[0m 3ms/step - loss: 0.1135 - mae: 0.2582 - val_loss: 0.1100 - val_mae: 0.2518\n",
            "Epoch 41/100\n",
            "\u001b[1m321/321\u001b[0m \u001b[32m━━━━━━━━━━━━━━━━━━━━\u001b[0m\u001b[37m\u001b[0m \u001b[1m1s\u001b[0m 3ms/step - loss: 0.1073 - mae: 0.2516 - val_loss: 0.1101 - val_mae: 0.2457\n",
            "Epoch 42/100\n",
            "\u001b[1m321/321\u001b[0m \u001b[32m━━━━━━━━━━━━━━━━━━━━\u001b[0m\u001b[37m\u001b[0m \u001b[1m1s\u001b[0m 3ms/step - loss: 0.1032 - mae: 0.2479 - val_loss: 0.1101 - val_mae: 0.2528\n",
            "Epoch 43/100\n",
            "\u001b[1m321/321\u001b[0m \u001b[32m━━━━━━━━━━━━━━━━━━━━\u001b[0m\u001b[37m\u001b[0m \u001b[1m2s\u001b[0m 4ms/step - loss: 0.0985 - mae: 0.2428 - val_loss: 0.1102 - val_mae: 0.2574\n",
            "Epoch 44/100\n",
            "\u001b[1m321/321\u001b[0m \u001b[32m━━━━━━━━━━━━━━━━━━━━\u001b[0m\u001b[37m\u001b[0m \u001b[1m3s\u001b[0m 5ms/step - loss: 0.1182 - mae: 0.2635 - val_loss: 0.1102 - val_mae: 0.2543\n",
            "Epoch 45/100\n",
            "\u001b[1m321/321\u001b[0m \u001b[32m━━━━━━━━━━━━━━━━━━━━\u001b[0m\u001b[37m\u001b[0m \u001b[1m2s\u001b[0m 3ms/step - loss: 0.1047 - mae: 0.2524 - val_loss: 0.1105 - val_mae: 0.2546\n",
            "Epoch 46/100\n",
            "\u001b[1m321/321\u001b[0m \u001b[32m━━━━━━━━━━━━━━━━━━━━\u001b[0m\u001b[37m\u001b[0m \u001b[1m1s\u001b[0m 3ms/step - loss: 0.1074 - mae: 0.2529 - val_loss: 0.1109 - val_mae: 0.2465\n",
            "Epoch 47/100\n",
            "\u001b[1m321/321\u001b[0m \u001b[32m━━━━━━━━━━━━━━━━━━━━\u001b[0m\u001b[37m\u001b[0m \u001b[1m1s\u001b[0m 3ms/step - loss: 0.1203 - mae: 0.2640 - val_loss: 0.1102 - val_mae: 0.2499\n",
            "Epoch 48/100\n",
            "\u001b[1m321/321\u001b[0m \u001b[32m━━━━━━━━━━━━━━━━━━━━\u001b[0m\u001b[37m\u001b[0m \u001b[1m1s\u001b[0m 3ms/step - loss: 0.1120 - mae: 0.2567 - val_loss: 0.1102 - val_mae: 0.2505\n",
            "Epoch 49/100\n",
            "\u001b[1m321/321\u001b[0m \u001b[32m━━━━━━━━━━━━━━━━━━━━\u001b[0m\u001b[37m\u001b[0m \u001b[1m1s\u001b[0m 3ms/step - loss: 0.1140 - mae: 0.2565 - val_loss: 0.1113 - val_mae: 0.2599\n",
            "Epoch 50/100\n",
            "\u001b[1m321/321\u001b[0m \u001b[32m━━━━━━━━━━━━━━━━━━━━\u001b[0m\u001b[37m\u001b[0m \u001b[1m1s\u001b[0m 3ms/step - loss: 0.1064 - mae: 0.2511 - val_loss: 0.1100 - val_mae: 0.2503\n",
            "\u001b[1m81/81\u001b[0m \u001b[32m━━━━━━━━━━━━━━━━━━━━\u001b[0m\u001b[37m\u001b[0m \u001b[1m0s\u001b[0m 2ms/step\n",
            "\n",
            "Evaluation Metrics:\n",
            "MAE: 11747.560546875\n",
            "RMSE: 37854.351612463266\n",
            "R2 Score: 0.17215865850448608\n"
          ]
        }
      ]
    },
    {
      "cell_type": "code",
      "source": [
        "\n",
        "# Plot training & validation loss\n",
        "plt.figure(figsize=(10, 6))\n",
        "plt.plot(history.history['loss'], label='Training Loss')\n",
        "plt.plot(history.history['val_loss'], label='Validation Loss')\n",
        "plt.title('Model Loss Over Epochs')\n",
        "plt.xlabel('Epochs')\n",
        "plt.ylabel('MSE Loss')\n",
        "plt.legend()\n",
        "plt.show()"
      ],
      "metadata": {
        "colab": {
          "base_uri": "https://localhost:8080/",
          "height": 564
        },
        "id": "sTqocTWK_ei0",
        "outputId": "7136d5cf-0815-4fe9-b55a-a5b88c84395e"
      },
      "execution_count": 18,
      "outputs": [
        {
          "output_type": "display_data",
          "data": {
            "text/plain": [
              "<Figure size 1000x600 with 1 Axes>"
            ],
            "image/png": "[encoded data removed]"
          },
          "metadata": {}
        }
      ]
    },
    {
      "cell_type": "markdown",
      "source": [
        "### Cross validation"
      ],
      "metadata": {
        "id": "_IKeMnT_yKqD"
      }
    },
    {
      "cell_type": "code",
      "source": [
        "from sklearn.model_selection import KFold, cross_val_predict\n",
        "from xgboost import XGBRegressor\n",
        "import warnings"
      ],
      "metadata": {
        "id": "-3lSFTk8yPLt"
      },
      "execution_count": 11,
      "outputs": []
    },
    {
      "cell_type": "code",
      "source": [
        "warnings.filterwarnings('ignore')\n"
      ],
      "metadata": {
        "id": "8Tl5p3MiyjcN"
      },
      "execution_count": 12,
      "outputs": []
    },
    {
      "cell_type": "code",
      "source": [
        "# 1. Feature Engineering\n",
        "df['rating'] = pd.to_numeric(df['rating'], errors='coerce')\n",
        "df['reviews'] = pd.to_numeric(df['reviews'], errors='coerce')\n",
        "df['amenities_count'] = df['amenities'].apply(lambda x: len(str(x).split(',')))\n",
        "\n",
        "# Drop rows with null target or essential features\n",
        "df = df.dropna(subset=['price', 'rating', 'reviews', 'bathrooms', 'beds', 'guests', 'toilets', 'bedrooms', 'studios'])\n",
        "\n",
        "# 2. Log-transform the target (price)\n",
        "df['log_price'] = np.log1p(df['price'])\n",
        "\n",
        "# 3. Feature Selection\n",
        "features = ['rating', 'reviews', 'amenities_count', 'country_encoded',\n",
        "            'bathrooms', 'beds', 'guests', 'toilets', 'bedrooms', 'studios']\n",
        "X = df[features].copy()\n",
        "y = df['log_price'].copy()\n",
        "\n",
        "# 4. Handle NaNs/infs in X\n",
        "X = X.fillna(0)\n",
        "X.replace([np.inf, -np.inf], 0, inplace=True)\n",
        "\n",
        "# 5. Scale Features\n",
        "scaler = StandardScaler()\n",
        "X_scaled = scaler.fit_transform(X)\n",
        "\n",
        "# 6. Cross-Validation Setup\n",
        "kf = KFold(n_splits=5, shuffle=True, random_state=42)\n",
        "model = XGBRegressor(n_estimators=200, learning_rate=0.1, max_depth=6, random_state=42)\n",
        "\n",
        "# 7. Cross-Validated Predictions\n",
        "y_pred_log = cross_val_predict(model, X_scaled, y, cv=kf)\n",
        "\n",
        "# 8. Inverse log-transform the predictions\n",
        "y_actual = np.expm1(y)\n",
        "y_pred = np.expm1(y_pred_log)\n",
        "\n",
        "# 9. Evaluation Metrics\n",
        "print(\"\\nCross-Validated Evaluation Metrics:\")\n",
        "print(\"MAE:\", mean_absolute_error(y_actual, y_pred))\n",
        "print(\"RMSE:\", np.sqrt(mean_squared_error(y_actual, y_pred)))\n",
        "print(\"R2 Score:\", r2_score(y_actual, y_pred))"
      ],
      "metadata": {
        "colab": {
          "base_uri": "https://localhost:8080/"
        },
        "id": "4XMqZhBMy3DK",
        "outputId": "366a5cb8-c3ac-4781-8459-475a8717f00b"
      },
      "execution_count": 13,
      "outputs": [
        {
          "output_type": "stream",
          "name": "stdout",
          "text": [
            "\n",
            "Cross-Validated Evaluation Metrics:\n",
            "MAE: 9651.27054584745\n",
            "RMSE: 38368.93597018025\n",
            "R2 Score: 0.2948995673608502\n"
          ]
        }
      ]
    },
    {
      "cell_type": "markdown",
      "source": [
        "### MAE dropped from ~11,747 → ~9,651\n",
        "\n",
        "### R² Score improved from ~0.17 → ~0.29"
      ],
      "metadata": {
        "id": "U6DNyuh9zRm8"
      }
    },
    {
      "cell_type": "markdown",
      "source": [
        "### Hyperparameter Tuning using XGBoost + RandomizedSearchCV"
      ],
      "metadata": {
        "id": "o9L899aRz2aq"
      }
    },
    {
      "cell_type": "code",
      "source": [
        "from sklearn.model_selection import RandomizedSearchCV\n"
      ],
      "metadata": {
        "id": "hfHoowEC0EMj"
      },
      "execution_count": 14,
      "outputs": []
    },
    {
      "cell_type": "code",
      "source": [
        "# 1. Prepare Data (reuse from previous step)\n",
        "X = df[['rating', 'reviews', 'amenities_count', 'country_encoded', 'bathrooms',\n",
        "        'beds', 'guests', 'toilets', 'bedrooms', 'studios']]\n",
        "y = np.log1p(df['price'])  # Log-transform target\n",
        "\n",
        "# Fill missing values and scale\n",
        "X.fillna(0, inplace=True)\n",
        "X.replace([np.inf, -np.inf], 0, inplace=True)\n",
        "scaler = StandardScaler()\n",
        "X_scaled = scaler.fit_transform(X)\n",
        "\n",
        "# 2. Define XGBoost model\n",
        "xgb_model = XGBRegressor(objective='reg:squarederror', random_state=42)\n",
        "\n",
        "# 3. Define Hyperparameter Grid\n",
        "param_dist = {\n",
        "    'n_estimators': [100, 200, 300],\n",
        "    'max_depth': [3, 5, 7, 9],\n",
        "    'learning_rate': [0.01, 0.05, 0.1, 0.2],\n",
        "    'subsample': [0.6, 0.8, 1.0],\n",
        "    'colsample_bytree': [0.6, 0.8, 1.0],\n",
        "    'gamma': [0, 0.1, 0.3, 0.5],\n",
        "    'min_child_weight': [1, 3, 5],\n",
        "    'reg_alpha': [0, 0.01, 0.1],\n",
        "    'reg_lambda': [1, 1.5, 2]\n",
        "}\n",
        "\n",
        "# 4. RandomizedSearchCV Setup\n",
        "random_search = RandomizedSearchCV(\n",
        "    estimator=xgb_model,\n",
        "    param_distributions=param_dist,\n",
        "    n_iter=50,  # Reduce or increase for speed/coverage\n",
        "    scoring='neg_mean_absolute_error',\n",
        "    cv=5,\n",
        "    verbose=2,\n",
        "    random_state=42,\n",
        "    n_jobs=-1\n",
        ")\n",
        "\n",
        "# 5. Fit the Search\n",
        "random_search.fit(X_scaled, y)\n",
        "\n",
        "# 6. Best Estimator Evaluation\n",
        "best_model = random_search.best_estimator_\n",
        "y_pred_log = best_model.predict(X_scaled)\n",
        "y_pred = np.expm1(y_pred_log)  # Inverse log transform\n",
        "y_actual = df['price'].values\n",
        "\n",
        "# 7. Evaluation\n",
        "print(\"\\nBest Parameters Found:\")\n",
        "print(random_search.best_params_)\n",
        "\n",
        "print(\"\\nEvaluation on Full Data:\")\n",
        "print(\"MAE:\", mean_absolute_error(y_actual, y_pred))\n",
        "print(\"RMSE:\", np.sqrt(mean_squared_error(y_actual, y_pred)))\n",
        "print(\"R2 Score:\", r2_score(y_actual, y_pred))"
      ],
      "metadata": {
        "colab": {
          "base_uri": "https://localhost:8080/"
        },
        "id": "gFsTI1R00Idz",
        "outputId": "ed9789e2-6972-4f83-d2c4-af635c10c993"
      },
      "execution_count": 15,
      "outputs": [
        {
          "output_type": "stream",
          "name": "stdout",
          "text": [
            "Fitting 5 folds for each of 50 candidates, totalling 250 fits\n",
            "\n",
            "Best Parameters Found:\n",
            "{'subsample': 0.8, 'reg_lambda': 1, 'reg_alpha': 0, 'n_estimators': 200, 'min_child_weight': 5, 'max_depth': 5, 'learning_rate': 0.1, 'gamma': 0.1, 'colsample_bytree': 0.6}\n",
            "\n",
            "Evaluation on Full Data:\n",
            "MAE: 8591.015625\n",
            "RMSE: 35218.15350071608\n",
            "R2 Score: 0.405947744846344\n"
          ]
        }
      ]
    },
    {
      "cell_type": "markdown",
      "source": [
        "| Stage                     | MAE       | RMSE       | R² Score  |\n",
        "| ------------------------- | --------- | ---------- | --------- |\n",
        "| Baseline (No CV)          | 11,747   | 37854     | 0.17   |\n",
        "| Cross-Validation (before) | 9,651     | 38,369     | 0.295     |\n",
        "| **After Tuning**       | **8,591** | **35,218** | **0.406** |\n"
      ],
      "metadata": {
        "id": "XcrWYmc91T6q"
      }
    },
    {
      "cell_type": "markdown",
      "source": [
        "\n",
        "*   ### Model now explains over 40% of the variance in prices — a substantial leap.\n",
        "*   ### MAE dropped by ~26% compared to the baseline.\n",
        "\n",
        "\n",
        "\n",
        "\n",
        "\n"
      ],
      "metadata": {
        "id": "WhQzCQ7PK9hB"
      }
    }
  ]
}